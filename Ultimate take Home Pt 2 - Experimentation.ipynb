{
 "cells": [
  {
   "cell_type": "markdown",
   "id": "fd283bcb",
   "metadata": {},
   "source": [
    "\n",
    "# Part 2 ‐ Experiment and metrics design\n",
    "The neighboring cities of Gotham and Metropolis have complementary circadian rhythms: on weekdays, Ultimate Gotham is most active at night, and Ultimate Metropolis is most active during the day. On weekends, there is reasonable activity in both cities.\n",
    "However, a toll bridge, with a two way toll, between the two cities causes driver partners to tend to be exclusive to each city. The Ultimate managers of city operations for the two cities have proposed an experiment to encourage driver partners to be available in both cities, by reimbursing all toll costs.\n"
   ]
  },
  {
   "cell_type": "markdown",
   "id": "dc3778a9",
   "metadata": {},
   "source": [
    "# 1) What would you choose as the key measure of success of this experiment in encouraging driver partners to serve both cities, and why would you choose this metric?\n",
    "\n",
    "We need a metric that measures how bi-available each driver is across the two cities so that we can observe the increase in bi-availability before and after the reimbursement program. We can observe total bi-availability and bi-availability per driver to see if any specific drivers responded best to the program.\n",
    "\n",
    "A good metric for measuring bi-availability is the location of reach ride, bundled into either Gotham or Metropolis or both. (Both is possible if a driver crosses the bridge during one ride.) This can be coded as 0/1 for Gotham, 0/1 for Metropolis, and 0/1 for Both. These coded locations can be summarized into an index representing driver bi-availability in both cities. This index can count every \"both\" ride as 1 and the ratio of Gotham/Metropolis or Metropolis/Gotham, whichever is smaller, times the length of the non-\"both\" rides. \n",
    "\n",
    "For example, if a driver had 5 Both rides, 100 Metropolis rides, and 15 Gotham rides, their index would be:\n",
    "5 + (15/100)*115 = 17.25\n",
    "\n",
    "If a different driver had 5 Both rides, 60 Metropolis rides, and 60 Gotham rides, their index would be:\n",
    "5 + (60/60)*120 = 125\n",
    "\n",
    "If a different driver had 50 Both rides, 5 Metropolis rides, and 10 Gotham rides, their index would be:\n",
    "50 + (5/10)*15 = 57.5\n",
    "\n",
    "If a different driver had 0 Both rides, 30 Metropolis rides, and 30 Gotham rides, their index would be:\n",
    "50 + (30/30)*60 = 60\n",
    "\n",
    "This meets a few important criteria:\n",
    "It is describing the total bi-availability for the driver, not just a ratio between the cities regardless of bumber of rides. If a driver only had two rides and one was in Gotham and one was in Metropolis, they shouldn't score high because they are not contributing much to the bi-avialability of the overall Ultimate service.\n",
    "\n",
    "The structure allows us to notice any changes in Ultimate rides which cross the bridge.\n",
    "\n",
    "The structure allows us to see the overall change in Ultimate bi-availability as well as investigate patterns of which drivers and what proportion of drivers become more bi-available after the reimbursement program.\n"
   ]
  },
  {
   "cell_type": "markdown",
   "id": "25fe0834",
   "metadata": {},
   "source": [
    "# 2) Describe a practical experiment you would design to compare the effectiveness of the proposed change in relation to the key measure of success. Please provide details on:\n",
    "# a) how you will implement the experiment\n",
    "# b) what statistical test(s) you will conduct to verify the significance of the observation\n",
    "# c) how you would interpret the results and provide recommendations to the city operations team along with any caveats.\n",
    "Note: The two cities of Gotham and Metropolis are not in the provided dataset; however, you do not need this information to answer Part 2.\n",
    "\n",
    "\n",
    "a) The experiment will be two months long. Randomly separate drivers who have previous rides in Gotham and Metropolis into groups A and B. Only group A is told about the toll reimbursement, which will be for all tolls for the second month. Groups A and B will be observed for these two months. They are told on the last day of the first month. This way, we can get a sample of typical behavior for this time from Control Group B. We can also see the change in behavior of Group A. Are they more bi-available in the second month than the first?\n",
    "\n",
    "b) I would perform several Mann-Whitney U Tests to see if the distribution of bi-availability scores is truly different. I would check if the distributions are different in Group A before and after the reimbursement month. I would confirm there is no difference between Group A and B in the first month. I would also see if the distributions are different in Group A and B in the second month.\n",
    "\n",
    "I would also run ANOVA to see which features explain the variance of the bi-availaibility scores of the drivers. These features would be whatever data Ultimate collects about the drivers themselves - home address, age, average time of day for their rides, etc. This would help Ultimate notice who was persuaded or not persuaded by the reimbursement program and act accordingly. \n",
    "\n",
    "c) I would report to Ultimate how much bi-availability increased due to the reimbursement program (in a 95% CI.) I would tell them the caveat that this is only for these two specific cities and should not be assumed to apply to all toll bridges. I would caution them to analyze the cost of reimbursing the tolls compared to how much their revenue increased to see if it is really worth it to continue. I would let them know if any particular subtype of driver was less likely to be persuaded to cross the bridge because of the reimbursement, so that they can consider other ways of enticing those drivers, or focus their efforts on recruiting a different subtype of drivers. "
   ]
  },
  {
   "cell_type": "code",
   "execution_count": null,
   "id": "53a514d3",
   "metadata": {},
   "outputs": [],
   "source": []
  }
 ],
 "metadata": {
  "kernelspec": {
   "display_name": "Python 3 (ipykernel)",
   "language": "python",
   "name": "python3"
  },
  "language_info": {
   "codemirror_mode": {
    "name": "ipython",
    "version": 3
   },
   "file_extension": ".py",
   "mimetype": "text/x-python",
   "name": "python",
   "nbconvert_exporter": "python",
   "pygments_lexer": "ipython3",
   "version": "3.8.13"
  }
 },
 "nbformat": 4,
 "nbformat_minor": 5
}
